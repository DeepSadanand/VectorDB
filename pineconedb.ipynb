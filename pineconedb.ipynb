{
 "cells": [
  {
   "cell_type": "code",
   "execution_count": 34,
   "metadata": {},
   "outputs": [],
   "source": [
    "from langchain.document_loaders import PyPDFDirectoryLoader # pdf loding\n",
    "from langchain.text_splitter import RecursiveCharacterTextSplitter # chunking\n",
    "from langchain.embeddings import HuggingFaceEmbeddings #embedding\n",
    "from langchain.embeddings import OpenAIEmbeddings\n",
    "import pinecone #vectrDb\n",
    "from langchain.chains import RetrievalQA #Query-Response\n",
    "import os"
   ]
  },
  {
   "cell_type": "code",
   "execution_count": 31,
   "metadata": {},
   "outputs": [],
   "source": [
    "from dotenv import load_dotenv\n",
    "env_var = load_dotenv()"
   ]
  },
  {
   "cell_type": "code",
   "execution_count": 15,
   "metadata": {},
   "outputs": [],
   "source": [
    "loader = PyPDFDirectoryLoader(\"pdfs\")\n",
    "data = loader.load()"
   ]
  },
  {
   "cell_type": "code",
   "execution_count": 16,
   "metadata": {},
   "outputs": [
    {
     "data": {
      "text/plain": [
       "[Document(metadata={'source': 'pdfs\\\\Program_specific_criteria.pdf', 'page': 0}, page_content=' \\n \\nCRITERIA FOR ACCREDITING  \\nCOMPUTING \\nPROGRAMS \\n \\n \\nEffective for Reviews During the \\n2015-2016 Accreditation Cycle \\n \\n \\nIncorporates all changes \\napproved by the \\nABET \\nBoard of Directors \\n as of \\nNovember 1, 2014 \\n \\n \\n \\n \\n \\nComputing Accreditation Commission \\n \\nABET \\n415 N. Charles Street \\nBaltimore, MD  21201 \\n \\nTelephone:  410-347-7700 \\nFax:  443-552-3644 \\nE-mail:  accreditation@abet.org \\nWebsite:  www.abet.org \\n \\n \\nCopyright © 2014 by ABET \\nPrinted in the United States of America. \\n \\n  C001 11/7/2014 '),\n",
       " Document(metadata={'source': 'pdfs\\\\Program_specific_criteria.pdf', 'page': 1}, page_content='All rights reserved.  No part of these criteria may be reproduced in any form or by any means without \\nwritten permission from the publisher. \\n \\nPublished by: ABET \\n  415 N. Charles Street \\n  Baltimore, MD 21201 \\n \\n \\nRequests for further information about ABET, its accreditation process, or other activities may be addressed \\nto the Senior Director, Accreditation Operations, ABET, 415 N. Charles Street, Baltimore, MD  21201 or to \\naccreditation@abet.org. \\nii \\n '),\n",
       " Document(metadata={'source': 'pdfs\\\\Program_specific_criteria.pdf', 'page': 2}, page_content='2015-2016 Criteria for Accrediting Computing Programs \\nTABLE OF CONTENTS  \\n \\n \\nINTRODUCTION…………………………………………………………………….2 \\n \\nGENERAL CRITERIA……………………………………………………………….3 \\n Students……………………………………………………………………….3 \\n Program Educational Objectives………………………………………… 3 \\n Student Outcomes…………………………………………………………...3 \\n Continuous I mprovement………………………………………………….3 \\n Curriculum……………………………………………………………………4 \\n Faculty………………………………………………………………………...4 \\n Facilities….…………………………………………………………………..4 \\n Institutional Support…………………………………………………...….4 \\n \\nPROGRAM CRITERIA………………………………………………………………5 \\n Computer  Science……………………………………………………………5 \\n Informati on Systems………………………………………………………..6 \\n Information  Technology……………………………………………………6 \\n \\nPROPOSED CHANGES TO CRITERIA……………………………………………8 \\n  \\n1 \\n '),\n",
       " Document(metadata={'source': 'pdfs\\\\Program_specific_criteria.pdf', 'page': 3}, page_content='2015-2016 Criteria for Accrediting Computing Programs \\n \\nCriteria for Accrediting Computing Programs \\nEffective for Reviews during the 2015- 2016 Accreditation Cycle  \\n \\nINTRODUCTION \\nThis document contains three sections: \\nThe first section includes important definitions used by all ABET commissions.  \\n \\nDefinitions \\nWhile ABET recognizes and supports the prerogative of institutions to adopt and use the terminology of \\ntheir choice, it is necessary for ABET volunteers and staff to have a consistent understanding of \\nterminology.  With that purpose in mind, the Commissions will use the following basic definitions: \\n \\nProgram Educational Objectives – Program educational objectives are broad statements that \\ndescribe what graduates are expected to attain within a few years of graduation.  Program \\neducational objectives are based on the needs of the program’s constituencies.   \\nStudent Outcomes – Student outcomes describe what students are expected to know and be able \\nto do by the time of graduation.  These relate to the knowledge, skills, and behaviors that \\nstudents acquire as they progress through the program.  \\nAssessment – Assessment is one or more processes that identify, collect, and prepare data to \\nevaluate the attainment of student outcomes. Effective assessment uses relevant direct, indirect, \\nquantitative and qualitative measures as appropriate to the outcome being measured.  \\nAppropriate sampling methods may be used as part of an assessment process.  \\nEvaluation – Evaluation is one or more processes for interpreting the data and evidence \\naccumulated through assessment processes. Evaluation determines the extent to which student \\noutcomes are being attained. Evaluation results in decisions and actions regarding program \\nimprovement. \\n \\nThe criteria for accreditation are in two sections \\nGeneral Criteria – General Criteria apply to all programs accredited by an ABET commission.  Each \\nprogram accredited by an ABET commission must satisfy every Criterion that is in the General Criteria \\nfor that commission. \\nProgram Criteria – The Program Criteria provide discipline-specific accreditation criteria.  Programs \\nmust show that they satisfy all of the specific Program Criteria implied by the program title.  Any \\noverlapping requirements need be satisfied only once. \\n \\n \\n----------------------------- \\n \\nAll programs seeking accreditation from the Computing Accreditation Commission of ABET must \\ndemonstrate that they satisfy all of the following General Criteria. \\n \\n \\n2 \\n '),\n",
       " Document(metadata={'source': 'pdfs\\\\Program_specific_criteria.pdf', 'page': 4}, page_content='2015-2016 Criteria for Accrediting Computing Programs \\nGENERAL CRITERIA  \\n \\nCriterion 1.  Students \\nStudent performance must be evaluated.  Student progress must be monitored to foster success in \\nattaining student outcomes, thereby enabling graduates to attain program educational  objectives.  \\nStudents must be advised regarding curriculum and career matters. \\n \\nThe program must have and enforce policies for accepting both new and transfer students, awarding \\nappropriate academic credit for courses taken at other institutions, and awarding appropriate \\nacademic credit for work in lieu of courses taken at the institution.  The program must have and \\nenforce procedures to ensure and document that students who graduate meet all graduation \\nrequirements.  \\n  \\nCriterion 2.  Program Educational Objectives \\nThe program must have published program educational objectives that are consistent with the \\nmission of the institution, the needs of the program’s various constituencies, and these criteria.  \\nThere must be a documented, systematically utilized, and effective process, involving program \\nconstituencies, for the periodic review of these program educational objectives that ensures they \\nremain consistent with the institutional mission, the program’s constituents’ needs, and these criteria. \\n   \\nCriterion 3.  Student Outcomes \\nThe program must have documented student outcomes that prepare graduates to attain the program \\neducational objectives. There must be a documented and effective process for the periodic review \\nand revision of these student outcomes. \\n \\nThe program must enable students to attain, by the time of graduation: \\n(a) An ability to apply knowledge of computing and mathematics appropriate to the program’s \\nstudent outcomes and to the discipline  \\n(b) An ability to analyze a problem, and identify and define the computing requirements \\nappropriate to its solution  \\n(c) An ability to design, implement, and evaluate a computer-based system, process, component, \\nor program to meet desired needs  \\n(d) An ability to function effectively on teams to accomplish a common goal  \\n(e) An understanding of professional, ethical, legal, security and social issues and responsibilities  \\n(f) An ability to communicate effectively with a range of audiences  \\n(g) An ability to analyze the local and global impact of computing on individuals, organizations, \\nand society  \\n(h) Recognition of the need for and an ability to engage in continuing professional development  \\n(i) An ability to use current techniques, skills, and tools necessary for computing practice.  \\n \\nCriterion 4.  Continuous Improvement \\nThe program must regularly use appropriate, documented processes for assessing and evaluating the \\nextent to which the student outcomes are being attained.  The results of these evaluations must be \\nsystematically utilized as input for the continuous improvement of the program.  Other available \\ninformation may also be used to assist in the continuous improvement of the program. \\n \\n3 \\n '),\n",
       " Document(metadata={'source': 'pdfs\\\\Program_specific_criteria.pdf', 'page': 5}, page_content='2015-2016 Criteria for Accrediting Computing Programs \\nCriterion 5.  Curriculum \\nThe program’s requirements must be consistent with its program educational objectives and \\ndesigned in such a way that each of the student outcomes can be attained.  The curriculum must \\ncombine technical and professional requirements with general education requirements and electives \\nto prepare students for a professional career and further study in the computing discipline associated \\nwith the program, and for functioning in modern society.  \\n \\nThe technical and professional requirements must include at least one year of up-to-date coverage of \\nfundamental and advanced topics in the computing discipline associated with the program. In \\naddition, the program must include mathematics appropriate to the discipline beyond the pre-\\ncalculus level.  For each course in the major required of all students, its content, expected \\nperformance criteria, and place in the overall program of study must be published.  \\n \\nCriterion 6.  Faculty  \\nEach faculty member teaching in the program must have expertise and educational background \\nconsistent with the contributions to the program expected from the faculty member.  The \\ncompetence of faculty members must be demonstrated by such factors as education, professional \\ncredentials and certifications, professional experience, ongoing professional development, \\ncontributions to the discipline, teaching effectiveness, and communication skills. Collectively, the \\nfaculty must have the breadth and depth to cover all curricular areas of the program. \\n \\nThe faculty serving in the program must be of sufficient number to maintain continuity, stability, \\noversight, student interaction, and advising.  The faculty must have sufficient responsibility and \\nauthority to improve the program through definition and revision of program educational objectives \\nand student outcomes as well as through the implementation of a program of study that fosters the \\nattainment of student outcomes. \\n \\nCriterion 7.  Facilities \\nClassrooms, offices, laboratories, and associated equipment must be adequate to support attainment \\nof the student outcomes and to provide an atmosphere conducive to learning.  Modern tools, \\nequipment, computing resources, and laboratories appropriate to the program must be available, \\naccessible, and systematically maintained and upgraded to enable students to attain the student \\noutcomes and to support program needs.  Students must be provided appropriate guidance regarding \\nthe use of the tools, equipment, computing resources, and laboratories available to the program.   \\n \\nThe library services and the computing and information infrastructure must be adequate to support \\nthe scholarly and professional activities of the students and faculty. \\n \\nCriterion 8.  Institutional Support \\nInstitutional support and leadership must be adequate to ensure the quality and continuity of the \\nprogram.   \\n \\nResources including institutional services, financial support, and staff (both administrative and \\ntechnical) provided to the program must be adequate to meet program needs.  The resources \\navailable to the program must be sufficient to attract, retain, and provide for the continued \\nprofessional development of a qualified faculty.   The resources available to the program must be \\n4 \\n '),\n",
       " Document(metadata={'source': 'pdfs\\\\Program_specific_criteria.pdf', 'page': 6}, page_content='2015-2016 Criteria for Accrediting Computing Programs \\nsufficient to acquire, maintain, and operate infrastructures, facilities and equipment appropriate for \\nthe program, and to provide an environment in which student outcomes can be attained. \\n \\n \\nPROGRAM CRITERIA \\nAll programs seeking accreditation from the Computing Accreditation Commission of ABET must \\ndemonstrate that they satisfy all of the specific Program Criteria implied by the program title. \\n \\n \\nPROGRAM CRITERIA FOR \\nCOMPUTER SCIENCE  \\nAND SIMILARLY NAMED COMPUTING PROGRAMS  \\nLead Society:  CSAB  \\n \\nThese program criteria apply to computing programs using comput er science or similar terms in their \\ntitles.  \\n \\n3. Student Outcomes  \\nThe program must enable students to attain, by the time of graduation:  \\n(j) An ability to apply mathematical foundations, algorithmic principles, and computer science \\ntheory in the modeling and design of computer-based systems in a way that demonstrates \\ncomprehension of the tradeoffs involved in design choices. [CS]  \\n(k) An ability to apply design and development principles in the construction of software systems \\nof varying complexity. [CS]  \\n \\n5. Curriculum  \\nStudents must have the following amounts of course work or equivalent educational experience:  \\na. Computer science: One and one-third years that must include:  \\n1. Coverage of the fundamentals of algorithms, data structures, software design, concepts     \\nof programming languages and computer organization and architecture. [CS]  \\n2. An exposure to a variety of programming languages and systems. [CS]  \\n3. Proficiency in at least one higher-level language. [CS]  \\n4. Advanced course work that builds on the fundamental course work to provide depth. [CS]  \\nb. One year of science and mathematics:  \\n1. Mathematics: At least one half year that must include discrete mathematics. The \\nadditional mathematics might consist of courses in areas such as calculus, linear algebra, \\nnumerical methods, probability, statistics, number theory, geometry, or symbolic logic. \\n[CS]  \\n2. Science: A science component that develops an understanding of the scientific method \\nand provides students with an opportunity to experience this mode of inquiry in courses \\nfor science or engineering majors that provide some exposure to laboratory work. [CS]  \\n  \\n6. Faculty   \\nSome full time faculty members must have a Ph.D. in computer science.  \\n \\n \\n5 \\n '),\n",
       " Document(metadata={'source': 'pdfs\\\\Program_specific_criteria.pdf', 'page': 7}, page_content='2015-2016 Criteria for Accrediting Computing Programs \\nPROGRAM CRITERIA FOR  \\nINFORMATION SYSTEMS  \\nAND SIMILARLY NAMED COMPUTING PROGRAMS  \\nLead Society:  CSAB  \\n \\nThese program criteria apply to computing programs using information systems or similar terms in their \\ntitles.  \\n \\n3. Student Outcomes  \\nThe program must enable students to attain, by the time of graduation:  \\n(j) An understanding of and an ability to support the use, delivery, and management of \\ninformation systems within an Information Systems environment. [IS] \\n \\n5. Curriculum  \\nStudents must have course work or an equivalent educational experience that includes:  \\n a. Information Systems: One year that must include:  \\n1. coverage of the fundamentals of application development, data management, networking \\nand data communications, security of information systems, systems analysis and design and \\nthe role of Information Systems in organizations. [IS]  \\n2. advanced course work that builds on the fundamental course work to provide depth. [IS] \\nb. Information Systems Environment: One-half year of course work that must include a cohesive \\nset of topics that provide an understanding of an environment in which the information systems \\nwill be applied professionally. [IS]  \\nc. Quantitative analysis or methods including statistics. [IS]  \\n \\n6. Faculty  \\nSome full-time faculty members, including those responsible for the IS curriculum development, must \\nhold a terminal degree with a program of study in information systems. \\n \\n \\nPROGRAM CRITERIA FOR  \\nINFORMATION TECHNOLOGY  \\nAND SIMILARLY NAMED COMPUTING PROGRAMS  \\nLead Society:  CSAB  \\n \\nThese program criteria apply to computing programs using information technology or similar terms in \\ntheir titles.  \\n \\n3. Student Outcomes  \\nThe program must enable students to attain, by the time of graduation:  \\n(j) An ability to use and apply current technical concepts and practices in the core information \\ntechnologies of human computer interaction, information management, programming, \\nnetworking, and web systems and technologies. [IT]  \\n(k) An ability to identify and analyze user needs and take them into account in the selection, \\ncreation, evaluation and administration of computer-based systems. [IT]  \\n (l) An ability to effectively integrate IT-based solutions into the user environment. [IT]  \\n6 \\n '),\n",
       " Document(metadata={'source': 'pdfs\\\\Program_specific_criteria.pdf', 'page': 8}, page_content='2015-2016 Criteria for Accrediting Computing Programs \\n (m) An understanding of best practices and standards and their application. [IT]  \\n (n) An ability to assist in the creation of an effective project plan. [IT]  \\n \\n5.   Curriculum  \\nStudents must have course work or an equivalent educational experience that includes:  \\n a. Coverage of the fundamentals of  \\n1. the core information technologies of human computer interaction, information \\nmanagement, programming, networking, web systems and technologies. [IT]  \\n  2. information assurance and security. [IT]  \\n  3. system administration and maintenance. [IT]  \\n  4. system integration and system architecture. [IT]  \\nb. Advanced course work that builds on the fundamental course work to provide depth. [IT]  \\n7 \\n '),\n",
       " Document(metadata={'source': 'pdfs\\\\Program_specific_criteria.pdf', 'page': 9}, page_content='2015-2016 Criteria for Accrediting Computing Programs – Proposed Changes \\nPROPOSED CHANGES TO THE CRITERIA \\n \\n \\nThere are no proposed changes to the CAC Criteria for the 2015-2016 accreditation review cycle. \\n 8 ')]"
      ]
     },
     "execution_count": 16,
     "metadata": {},
     "output_type": "execute_result"
    }
   ],
   "source": [
    "data"
   ]
  },
  {
   "cell_type": "code",
   "execution_count": 17,
   "metadata": {},
   "outputs": [],
   "source": [
    "text_spitter = RecursiveCharacterTextSplitter(chunk_size = 500, chunk_overlap = 200)\n",
    "text_chunks = text_spitter.split_documents(data)"
   ]
  },
  {
   "cell_type": "code",
   "execution_count": 18,
   "metadata": {},
   "outputs": [
    {
     "data": {
      "text/plain": [
       "53"
      ]
     },
     "execution_count": 18,
     "metadata": {},
     "output_type": "execute_result"
    }
   ],
   "source": [
    "len(text_chunks)"
   ]
  },
  {
   "cell_type": "code",
   "execution_count": 19,
   "metadata": {},
   "outputs": [],
   "source": [
    "# embedding creation using HuggingHub  "
   ]
  },
  {
   "cell_type": "code",
   "execution_count": 25,
   "metadata": {},
   "outputs": [],
   "source": [
    "embedings = OpenAIEmbeddings()\n",
    "query = \"Tell me about Criteria 6.\"\n",
    "query_result = embedings.embed_query(query)\n"
   ]
  },
  {
   "cell_type": "code",
   "execution_count": 28,
   "metadata": {},
   "outputs": [
    {
     "data": {
      "text/plain": [
       "1536"
      ]
     },
     "execution_count": 28,
     "metadata": {},
     "output_type": "execute_result"
    }
   ],
   "source": [
    "len(query_result)"
   ]
  },
  {
   "cell_type": "code",
   "execution_count": 29,
   "metadata": {},
   "outputs": [],
   "source": [
    "# intialize Pinecone"
   ]
  },
  {
   "cell_type": "code",
   "execution_count": 33,
   "metadata": {},
   "outputs": [
    {
     "data": {
      "text/plain": [
       "'pcsk_2oqXUS_DiZdQ5SaynMfV62VwD3XrVY9ENdZvMbb63StRLXayFqKbzxsMMco7mXiLrsUNRN'"
      ]
     },
     "execution_count": 33,
     "metadata": {},
     "output_type": "execute_result"
    }
   ],
   "source": [
    "PINEKONE_API_KEY = os.getenv('PINEKONE_API_KEY')\n",
    "PINEKONE_API_KEY"
   ]
  },
  {
   "cell_type": "code",
   "execution_count": 45,
   "metadata": {},
   "outputs": [],
   "source": [
    "from pinecone import Pinecone\n",
    "from pinecone import ServerlessSpec"
   ]
  },
  {
   "cell_type": "code",
   "execution_count": 46,
   "metadata": {},
   "outputs": [],
   "source": [
    "pc = Pinecone(PINEKONE_API_KEY)"
   ]
  },
  {
   "cell_type": "code",
   "execution_count": 42,
   "metadata": {},
   "outputs": [],
   "source": [
    "#create index\n",
    "index_name = \"sadatest\"\n",
    "\n",
    "pc.create_index(\n",
    "    name=index_name,\n",
    "    dimension=1536, # Replace with your model dimensions\n",
    "    metric=\"cosine\", # Replace with your model metric\n",
    "    spec=ServerlessSpec(\n",
    "        cloud=\"aws\",\n",
    "        region=\"us-east-1\"\n",
    "    ) \n",
    ")"
   ]
  },
  {
   "cell_type": "code",
   "execution_count": 53,
   "metadata": {},
   "outputs": [],
   "source": [
    "# from langchain.vectorstores import Pinecone\n",
    "# #pc = Pinecone(PINEKONE_API_KEY, text_chunks, embedings)\n",
    "# #docsearch = pc.from_texts(texts = [t.page_content for t in text_chunks],embedding = embedings, index_name =index_name )\n"
   ]
  },
  {
   "cell_type": "code",
   "execution_count": 65,
   "metadata": {},
   "outputs": [],
   "source": [
    "from pinecone import Pinecone\n",
    "pc = Pinecone(PINEKONE_API_KEY,index_name = index_name,host=\"https://test-xujav9t.svc.aped-4627-b74a.pinecone.io\")\n",
    "\n",
    "# pc.from_texts([t.page_content for t in text_chunks],embedding = embedings, index_name = index_name)\n",
    "\n"
   ]
  },
  {
   "cell_type": "code",
   "execution_count": 87,
   "metadata": {},
   "outputs": [],
   "source": [
    "# from langchain.vectorstores import Pinecone\n",
    "# \n",
    "# docsearch = Pinecone.from_texts(API_KEY = PINEKONE_API_KEY,texts = [t.page_content for t in text_chunks],embedding = embedings, index_name = \"test\")"
   ]
  },
  {
   "cell_type": "code",
   "execution_count": 138,
   "metadata": {},
   "outputs": [
    {
     "data": {
      "text/plain": [
       "['0',\n",
       " '1',\n",
       " '2',\n",
       " '3',\n",
       " '4',\n",
       " '5',\n",
       " '6',\n",
       " '7',\n",
       " '8',\n",
       " '9',\n",
       " '10',\n",
       " '11',\n",
       " '12',\n",
       " '13',\n",
       " '14',\n",
       " '15',\n",
       " '16',\n",
       " '17',\n",
       " '18',\n",
       " '19',\n",
       " '20',\n",
       " '21',\n",
       " '22',\n",
       " '23',\n",
       " '24',\n",
       " '25',\n",
       " '26',\n",
       " '27',\n",
       " '28',\n",
       " '29',\n",
       " '30',\n",
       " '31',\n",
       " '32',\n",
       " '33',\n",
       " '34',\n",
       " '35',\n",
       " '36',\n",
       " '37',\n",
       " '38',\n",
       " '39',\n",
       " '40',\n",
       " '41',\n",
       " '42',\n",
       " '43',\n",
       " '44',\n",
       " '45',\n",
       " '46',\n",
       " '47',\n",
       " '48',\n",
       " '49',\n",
       " '50',\n",
       " '51',\n",
       " '52']"
      ]
     },
     "execution_count": 138,
     "metadata": {},
     "output_type": "execute_result"
    }
   ],
   "source": [
    "from langchain_pinecone import PineconeVectorStore\n",
    "from pinecone import Pinecone, ServerlessSpec\n",
    "pc = Pinecone(api_key=PINEKONE_API_KEY)\n",
    "index_name = \"sadatest\"\n",
    "pc.list_indexes()\n",
    "index = pc.Index(index_name)\n",
    "vector_store = PineconeVectorStore(index=index, embedding=OpenAIEmbeddings())\n",
    "id = [str(i) for i in range(0,len(text_chunks))]\n",
    "vector_store.add_documents(documents=text_chunks, ids=id)"
   ]
  },
  {
   "cell_type": "code",
   "execution_count": 152,
   "metadata": {},
   "outputs": [
    {
     "name": "stdout",
     "output_type": "stream",
     "text": [
      "* 2015-2016 Criteria for Accrediting Computing Programs \n",
      "GENERAL CRITERIA  \n",
      " \n",
      "Criterion 1.  Students \n",
      "Student performance must be evaluated.  Student progress must be monitored to foster success in \n",
      "attaining student outcomes, thereby enabling graduates to attain program educational  objectives.  \n",
      "Students must be advised regarding curriculum and career matters. \n",
      " \n",
      "The program must have and enforce policies for accepting both new and transfer students, awarding [{'page': 4.0, 'source': 'pdfs\\\\Program_specific_criteria.pdf'}]\n",
      "* for that commission. \n",
      "Program Criteria – The Program Criteria provide discipline-specific accreditation criteria.  Programs \n",
      "must show that they satisfy all of the specific Program Criteria implied by the program title.  Any \n",
      "overlapping requirements need be satisfied only once. \n",
      " \n",
      " \n",
      "----------------------------- \n",
      " \n",
      "All programs seeking accreditation from the Computing Accreditation Commission of ABET must \n",
      "demonstrate that they satisfy all of the following General Criteria. \n",
      " \n",
      " \n",
      "2 [{'page': 3.0, 'source': 'pdfs\\\\Program_specific_criteria.pdf'}]\n",
      "* 2015-2016 Criteria for Accrediting Computing Programs \n",
      "TABLE OF CONTENTS  \n",
      " \n",
      " \n",
      "INTRODUCTION…………………………………………………………………….2 \n",
      " \n",
      "GENERAL CRITERIA……………………………………………………………….3 \n",
      " Students……………………………………………………………………….3 \n",
      " Program Educational Objectives………………………………………… 3 \n",
      " Student Outcomes…………………………………………………………...3 \n",
      " Continuous I mprovement………………………………………………….3 \n",
      " Curriculum……………………………………………………………………4 \n",
      " Faculty………………………………………………………………………...4 \n",
      " Facilities….…………………………………………………………………..4 [{'page': 2.0, 'source': 'pdfs\\\\Program_specific_criteria.pdf'}]\n",
      "* outcomes are being attained. Evaluation results in decisions and actions regarding program \n",
      "improvement. \n",
      " \n",
      "The criteria for accreditation are in two sections \n",
      "General Criteria – General Criteria apply to all programs accredited by an ABET commission.  Each \n",
      "program accredited by an ABET commission must satisfy every Criterion that is in the General Criteria \n",
      "for that commission. \n",
      "Program Criteria – The Program Criteria provide discipline-specific accreditation criteria.  Programs [{'page': 3.0, 'source': 'pdfs\\\\Program_specific_criteria.pdf'}]\n"
     ]
    }
   ],
   "source": [
    "query = \"What is the Genral Criteria?\"\n",
    "docs = vector_store.similarity_search(query)\n",
    "for res in docs:\n",
    "    print(f\"* {res.page_content} [{res.metadata}]\")"
   ]
  },
  {
   "cell_type": "code",
   "execution_count": 141,
   "metadata": {},
   "outputs": [
    {
     "data": {
      "text/plain": [
       "4"
      ]
     },
     "execution_count": 141,
     "metadata": {},
     "output_type": "execute_result"
    }
   ],
   "source": [
    "len(docs)"
   ]
  },
  {
   "cell_type": "code",
   "execution_count": 161,
   "metadata": {},
   "outputs": [],
   "source": [
    "retriever = vector_store.as_retriever(\n",
    "    search_type=\"similarity_score_threshold\",\n",
    "    search_kwargs={\"k\": 4, \"score_threshold\": 0.7},\n",
    ")\n",
    "\n",
    "response = retriever.invoke(\"How many General Criterias are there?\")\n"
   ]
  },
  {
   "cell_type": "code",
   "execution_count": 162,
   "metadata": {},
   "outputs": [
    {
     "name": "stdout",
     "output_type": "stream",
     "text": [
      "* Continuous I mprovement………………………………………………….3 \n",
      " Curriculum……………………………………………………………………4 \n",
      " Faculty………………………………………………………………………...4 \n",
      " Facilities….…………………………………………………………………..4 \n",
      " Institutional Support…………………………………………………...….4 \n",
      " \n",
      "PROGRAM CRITERIA………………………………………………………………5 \n",
      " Computer  Science……………………………………………………………5 \n",
      " Informati on Systems………………………………………………………..6 \n",
      " Information  Technology……………………………………………………6 \n",
      " \n",
      "PROPOSED CHANGES TO CRITERIA……………………………………………8 \n",
      "  \n",
      "1 \n",
      "* 2015-2016 Criteria for Accrediting Computing Programs \n",
      "TABLE OF CONTENTS  \n",
      " \n",
      " \n",
      "INTRODUCTION…………………………………………………………………….2 \n",
      " \n",
      "GENERAL CRITERIA……………………………………………………………….3 \n",
      " Students……………………………………………………………………….3 \n",
      " Program Educational Objectives………………………………………… 3 \n",
      " Student Outcomes…………………………………………………………...3 \n",
      " Continuous I mprovement………………………………………………….3 \n",
      " Curriculum……………………………………………………………………4 \n",
      " Faculty………………………………………………………………………...4 \n",
      " Facilities….…………………………………………………………………..4 \n",
      "* 2015-2016 Criteria for Accrediting Computing Programs \n",
      "GENERAL CRITERIA  \n",
      " \n",
      "Criterion 1.  Students \n",
      "Student performance must be evaluated.  Student progress must be monitored to foster success in \n",
      "attaining student outcomes, thereby enabling graduates to attain program educational  objectives.  \n",
      "Students must be advised regarding curriculum and career matters. \n",
      " \n",
      "The program must have and enforce policies for accepting both new and transfer students, awarding \n",
      "* for that commission. \n",
      "Program Criteria – The Program Criteria provide discipline-specific accreditation criteria.  Programs \n",
      "must show that they satisfy all of the specific Program Criteria implied by the program title.  Any \n",
      "overlapping requirements need be satisfied only once. \n",
      " \n",
      " \n",
      "----------------------------- \n",
      " \n",
      "All programs seeking accreditation from the Computing Accreditation Commission of ABET must \n",
      "demonstrate that they satisfy all of the following General Criteria. \n",
      " \n",
      " \n",
      "2 \n"
     ]
    }
   ],
   "source": [
    "for res in response:\n",
    "    print(f\"* {res.page_content} \")"
   ]
  },
  {
   "cell_type": "code",
   "execution_count": null,
   "metadata": {},
   "outputs": [],
   "source": []
  }
 ],
 "metadata": {
  "kernelspec": {
   "display_name": "lang_test",
   "language": "python",
   "name": "python3"
  },
  "language_info": {
   "codemirror_mode": {
    "name": "ipython",
    "version": 3
   },
   "file_extension": ".py",
   "mimetype": "text/x-python",
   "name": "python",
   "nbconvert_exporter": "python",
   "pygments_lexer": "ipython3",
   "version": "3.11.11"
  }
 },
 "nbformat": 4,
 "nbformat_minor": 2
}
